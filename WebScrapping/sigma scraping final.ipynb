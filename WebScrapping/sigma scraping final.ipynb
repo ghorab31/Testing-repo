{
 "cells": [
  {
   "cell_type": "code",
   "execution_count": null,
   "metadata": {},
   "outputs": [],
   "source": []
  },
  {
   "cell_type": "code",
   "execution_count": 1,
   "metadata": {},
   "outputs": [
    {
     "name": "stdout",
     "output_type": "stream",
     "text": [
      "^C\n",
      "Note: you may need to restart the kernel to use updated packages.\n"
     ]
    },
    {
     "name": "stdout",
     "output_type": "stream",
     "text": [
      "Requirement already satisfied: selenium in c:\\users\\dell\\anaconda3\\envs\\machinelearning\\lib\\site-packages (4.27.1)\n",
      "Requirement already satisfied: urllib3<3,>=1.26 in c:\\users\\dell\\anaconda3\\envs\\machinelearning\\lib\\site-packages (from urllib3[socks]<3,>=1.26->selenium) (2.2.3)\n",
      "Requirement already satisfied: trio~=0.17 in c:\\users\\dell\\anaconda3\\envs\\machinelearning\\lib\\site-packages (from selenium) (0.28.0)\n",
      "Requirement already satisfied: trio-websocket~=0.9 in c:\\users\\dell\\anaconda3\\envs\\machinelearning\\lib\\site-packages (from selenium) (0.11.1)\n",
      "Requirement already satisfied: certifi>=2021.10.8 in c:\\users\\dell\\anaconda3\\envs\\machinelearning\\lib\\site-packages (from selenium) (2024.8.30)\n",
      "Requirement already satisfied: typing_extensions~=4.9 in c:\\users\\dell\\anaconda3\\envs\\machinelearning\\lib\\site-packages (from selenium) (4.11.0)\n",
      "Requirement already satisfied: websocket-client~=1.8 in c:\\users\\dell\\anaconda3\\envs\\machinelearning\\lib\\site-packages (from selenium) (1.8.0)\n",
      "Requirement already satisfied: attrs>=23.2.0 in c:\\users\\dell\\anaconda3\\envs\\machinelearning\\lib\\site-packages (from trio~=0.17->selenium) (24.3.0)\n",
      "Requirement already satisfied: sortedcontainers in c:\\users\\dell\\anaconda3\\envs\\machinelearning\\lib\\site-packages (from trio~=0.17->selenium) (2.4.0)\n",
      "Requirement already satisfied: idna in c:\\users\\dell\\anaconda3\\envs\\machinelearning\\lib\\site-packages (from trio~=0.17->selenium) (3.7)\n",
      "Requirement already satisfied: outcome in c:\\users\\dell\\anaconda3\\envs\\machinelearning\\lib\\site-packages (from trio~=0.17->selenium) (1.3.0.post0)\n",
      "Requirement already satisfied: sniffio>=1.3.0 in c:\\users\\dell\\anaconda3\\envs\\machinelearning\\lib\\site-packages (from trio~=0.17->selenium) (1.3.0)\n",
      "Requirement already satisfied: cffi>=1.14 in c:\\users\\dell\\anaconda3\\envs\\machinelearning\\lib\\site-packages (from trio~=0.17->selenium) (1.17.1)\n",
      "Requirement already satisfied: wsproto>=0.14 in c:\\users\\dell\\anaconda3\\envs\\machinelearning\\lib\\site-packages (from trio-websocket~=0.9->selenium) (1.2.0)\n",
      "Requirement already satisfied: pysocks!=1.5.7,<2.0,>=1.5.6 in c:\\users\\dell\\anaconda3\\envs\\machinelearning\\lib\\site-packages (from urllib3[socks]<3,>=1.26->selenium) (1.7.1)\n",
      "Requirement already satisfied: pycparser in c:\\users\\dell\\anaconda3\\envs\\machinelearning\\lib\\site-packages (from cffi>=1.14->trio~=0.17->selenium) (2.21)\n",
      "Requirement already satisfied: h11<1,>=0.9.0 in c:\\users\\dell\\anaconda3\\envs\\machinelearning\\lib\\site-packages (from wsproto>=0.14->trio-websocket~=0.9->selenium) (0.14.0)\n"
     ]
    }
   ],
   "source": [
    "pip install"
   ]
  },
  {
   "cell_type": "code",
   "execution_count": null,
   "metadata": {},
   "outputs": [],
   "source": []
  },
  {
   "cell_type": "code",
   "execution_count": 1,
   "metadata": {},
   "outputs": [],
   "source": [
    "\n",
    "import requests\n",
    "import pandas as pd\n",
    "from bs4 import BeautifulSoup\n",
    "from selenium import webdriver\n"
   ]
  },
  {
   "cell_type": "code",
   "execution_count": 3,
   "metadata": {},
   "outputs": [],
   "source": []
  },
  {
   "cell_type": "code",
   "execution_count": 9,
   "metadata": {},
   "outputs": [
    {
     "data": {
      "text/plain": [
       "'MSI Thin 15 B12UCX i5 12450H RTX2050 RAM 8G DDR4 3200Hz SSD 512G 15.6-FHD-IPS-144Hz Blue Backlit-Arabic 1.86 kg-2 Year warranty'"
      ]
     },
     "execution_count": 9,
     "metadata": {},
     "output_type": "execute_result"
    }
   ],
   "source": [
    "getdata=requests.get(\"https://www.sigma-computer.com/search?search=laptop&submit_search=&route=product%2Fsearch\")\n",
    "soup_sigma=BeautifulSoup(getdata.text,'html.parser')\n",
    "get_sigma=soup_sigma.find_all('div',attrs={'class':'product-layout col-lg-15 col-md-4 col-sm-6 col-xs-12'})\n",
    "get_name=get_sigma[13].find('div',attrs={'class':'product-image-container second_img'})\n",
    "laptopget=get_name.find('a')\n",
    "name=laptopget.attrs['title'].replace(\",\",\" and\")\n",
    "productlink=\"https://www.sigma-computer.com/\"+laptopget.attrs['href']#link\n",
    "name"
   ]
  },
  {
   "cell_type": "code",
   "execution_count": 10,
   "metadata": {},
   "outputs": [
    {
     "data": {
      "text/plain": [
       "'In Stock'"
      ]
     },
     "execution_count": 10,
     "metadata": {},
     "output_type": "execute_result"
    }
   ],
   "source": [
    "#STOCK\n",
    "stock_get=get_sigma[13].find('div',attrs={'class',\"col-md-6\"})\n",
    "gettingstock=stock_get.find_all('span')\n",
    "stock=gettingstock[1].text.strip()\n",
    "stock\n",
    "\n"
   ]
  },
  {
   "cell_type": "code",
   "execution_count": 11,
   "metadata": {},
   "outputs": [
    {
     "name": "stdout",
     "output_type": "stream",
     "text": [
      "1099,1350\n"
     ]
    }
   ],
   "source": [
    "price=get_sigma[0].find('p',attrs={'class',\"price\"})\n",
    "prices=price.find_all('span')\n",
    "newprice=int(prices[0].text.replace(\"LE\",\"\").strip())\n",
    "oldprice=int(prices[1].text.replace(\"LE\",\"\").strip())\n",
    "print(f'{newprice},{oldprice}')\n",
    "\n"
   ]
  },
  {
   "cell_type": "code",
   "execution_count": 12,
   "metadata": {},
   "outputs": [
    {
     "data": {
      "text/plain": [
       "'ضمـــــــان سنتـــــين وكــــــيل'"
      ]
     },
     "execution_count": 12,
     "metadata": {},
     "output_type": "execute_result"
    }
   ],
   "source": [
    "product_get=requests.get(productlink)\n",
    "product_soup=BeautifulSoup(product_get.text,'html.parser')\n",
    "details=product_soup.find('div',attrs={'class':'product-box-desc'})\n",
    "warrantyget=details.find_all('em') #warranty\n",
    "if warrantyget:\n",
    "    warranty=warrantyget[0].text\n",
    "else:\n",
    "    warranty=\"no warranty\"\n",
    "warranty"
   ]
  },
  {
   "cell_type": "code",
   "execution_count": null,
   "metadata": {},
   "outputs": [],
   "source": []
  },
  {
   "cell_type": "code",
   "execution_count": 13,
   "metadata": {},
   "outputs": [
    {
     "data": {
      "text/plain": [
       "'Processor: Intel Core i5-12450H (12th Gen)Graphics: NVIDIA GeForce RTX 2050 excellent for gaming and creative work.Memory: 8GB DDR4 (3200MHz) – expandable for multitasking needs.Storage: 512GB SSD – fast boot times and ample storage.Display: 15.6\" FHD IPS 144Hz – smooth visuals and vibrant colors.Keyboard: Blue backlit Arabic support – perfect for night use and regional preferences.Weight: 1.86 kg – lightweight for its power.Warranty: 2 years for peace of mind.'"
      ]
     },
     "execution_count": 13,
     "metadata": {},
     "output_type": "execute_result"
    }
   ],
   "source": [
    "label=details.find_all('strong')\n",
    "Processor=\"\"\n",
    "Cores=\"\"\n",
    "GraphicsCard=\"\"\n",
    "ram=\"\"\n",
    "Storage=\"\"\n",
    "Display=\"\"\n",
    "specsdata=details.find_all('li')\n",
    "other=details.find_all('p')\n",
    "labels=\"\"\n",
    "data=\"\"\n",
    "if specsdata:\n",
    "        for i in range(len(specsdata)):\n",
    "            data=data+specsdata[i].text.replace(',','').replace(\"\\n\\n\",\"\").strip()\n",
    "else:\n",
    "    for o in range(len(other)):\n",
    "            data=data+other[o].text.replace(',','').strip(\",\").strip()\n",
    "data\n",
    "\n"
   ]
  },
  {
   "cell_type": "code",
   "execution_count": null,
   "metadata": {},
   "outputs": [
    {
     "name": "stdout",
     "output_type": "stream",
     "text": [
      "scaping\n",
      "scraping productdata\n",
      "scraping productdata\n",
      "scraping productdata\n",
      "scraping productdata\n",
      "scraping productdata\n",
      "scraping productdata\n",
      "scraping productdata\n",
      "scraping productdata\n",
      "scraping productdata\n",
      "scraping productdata\n",
      "scraping productdata\n",
      "scraping productdata\n",
      "scraping productdata\n",
      "scraping productdata\n",
      "scraping productdata\n",
      "scraping productdata\n",
      "scraping productdata\n",
      "scraping productdata\n",
      "scraping productdata\n",
      "scraping productdata\n",
      "scraping productdata\n",
      "scraping productdata\n",
      "scraping productdata\n",
      "scraping productdata\n",
      "scraping productdata\n",
      "scraping productdata\n",
      "scraping productdata\n",
      "scraping productdata\n",
      "scraping productdata\n",
      "scraping productdata\n",
      "scraping productdata\n",
      "scraping productdata\n",
      "scraping productdata\n",
      "scraping productdata\n",
      "scraping productdata\n"
     ]
    }
   ],
   "source": [
    "with open(\"sigma.csv\",\"w\",encoding=\"utf8\") as fd:\n",
    "    fd.write(\"name,newprice,oldprice,stock,warranty,data,productlink\\n\")\n",
    "    while True:\n",
    "        getdata=requests.get(\"https://www.sigma-computer.com/search?search=laptop&submit_search=&route=product%2Fsearch\")\n",
    "        if getdata:\n",
    "            print(\"scaping\")\n",
    "            break\n",
    "        else:\n",
    "            print(\"trying again\")\n",
    "            getdata=requests.get(\"https://www.sigma-computer.com/search?search=laptop&submit_search=&route=product%2Fsearch\")\n",
    "    soup_sigma=BeautifulSoup(getdata.text,'html.parser')\n",
    "    get_sigma=soup_sigma.find_all('div',attrs={'class':'product-layout col-lg-15 col-md-4 col-sm-6 col-xs-12'})\n",
    "    for i in range(len(get_sigma)):\n",
    "        get_name=get_sigma[i].find('div',attrs={'class':'product-image-container second_img'})\n",
    "        laptopget=get_name.find('a')\n",
    "        name=laptopget.attrs['title'].replace(\",\",\" and\").strip()#name\n",
    "        productlink=\"https://www.sigma-computer.com/\"+laptopget.attrs['href']\n",
    "        #STOCK\n",
    "        stock_get=get_sigma[i].find('div',attrs={'class',\"col-md-6\"})\n",
    "        gettingstock=stock_get.find_all('span')\n",
    "        stock=gettingstock[1].text.replace(\",\",'').strip()\n",
    "        #price\n",
    "        price=get_sigma[i].find('p',attrs={'class',\"price\"})\n",
    "        prices=price.find_all('span')\n",
    "        newprice=int(prices[0].text.replace(\"LE\",\"\").strip())\n",
    "        oldprice=int(prices[1].text.replace(\"LE\",\"\").strip())\n",
    "        product_get=requests.get(productlink)\n",
    "        while True:\n",
    "            if product_get:\n",
    "                print(\"scraping productdata\")\n",
    "                break\n",
    "            else:\n",
    "                print(\"trying again\")\n",
    "                product_get=requests.get(productlink)\n",
    "                \n",
    "        product_soup=BeautifulSoup(product_get.text,'html.parser')\n",
    "        details=product_soup.find('div',attrs={'class':'product-box-desc'})\n",
    "        warrantyget=details.find_all('em') #warranty\n",
    "        if warrantyget:\n",
    "            warranty=warrantyget[0].text.replace(\",\",\" and\").strip()\n",
    "        else:\n",
    "            warranty=\"no warranty\"\n",
    "        #specsdata\n",
    "        data=\"\"\n",
    "        specsdata=details.find_all('li')\n",
    "        other=details.find_all('p')\n",
    "        if specsdata:\n",
    "            for i in range(len(specsdata)):\n",
    "             data=data+specsdata[i].text.replace(\"\\n\\n\",\"\").replace(\",\",\" and\").strip(',').strip()\n",
    "        else:\n",
    "            for o in range(len(other)):\n",
    "                data=data+other[o].text.replace(\"\\n\\n\",\"\").replace(\",\",\" and\").strip().strip(',').strip()\n",
    "           \n",
    "            \n",
    "    \n",
    "        fd.write(f\"\\\"{name}\\\",\\\"{newprice}\\\",\\\"{oldprice}\\\",\\\"{stock}\\\",\\\"{warranty}\\\",\\\"{data}\\\",\\\"{productlink}\\\"\\n\")\n",
    "        \n"
   ]
  },
  {
   "cell_type": "code",
   "execution_count": 15,
   "metadata": {},
   "outputs": [
    {
     "data": {
      "text/html": [
       "<div>\n",
       "<style scoped>\n",
       "    .dataframe tbody tr th:only-of-type {\n",
       "        vertical-align: middle;\n",
       "    }\n",
       "\n",
       "    .dataframe tbody tr th {\n",
       "        vertical-align: top;\n",
       "    }\n",
       "\n",
       "    .dataframe thead th {\n",
       "        text-align: right;\n",
       "    }\n",
       "</style>\n",
       "<table border=\"1\" class=\"dataframe\">\n",
       "  <thead>\n",
       "    <tr style=\"text-align: right;\">\n",
       "      <th></th>\n",
       "      <th>name</th>\n",
       "      <th>newprice</th>\n",
       "      <th>oldprice</th>\n",
       "      <th>stock</th>\n",
       "      <th>warranty</th>\n",
       "      <th>data</th>\n",
       "      <th>productlink</th>\n",
       "    </tr>\n",
       "  </thead>\n",
       "  <tbody>\n",
       "    <tr>\n",
       "      <th>0</th>\n",
       "      <td>Redragon H270 RGB Gaming Headset with Micropho...</td>\n",
       "      <td>1099</td>\n",
       "      <td>1350</td>\n",
       "      <td>In Stock</td>\n",
       "      <td>no warranty</td>\n",
       "      <td>Multi-Platform Compatibility: Works with Xbox ...</td>\n",
       "      <td>https://www.sigma-computer.com/item?id=7664&amp;na...</td>\n",
       "    </tr>\n",
       "    <tr>\n",
       "      <th>1</th>\n",
       "      <td>Redragon M814 Wireless Gaming Mouse and Tri-Mo...</td>\n",
       "      <td>1399</td>\n",
       "      <td>1650</td>\n",
       "      <td>In Stock</td>\n",
       "      <td>no warranty</td>\n",
       "      <td>3 Modes: Wired and 2.4GHz Wireless and Bluetoo...</td>\n",
       "      <td>https://www.sigma-computer.com/item?id=7663&amp;na...</td>\n",
       "    </tr>\n",
       "    <tr>\n",
       "      <th>2</th>\n",
       "      <td>Laptop Dell Vostro 3520 - Intel Core i5 1235U ...</td>\n",
       "      <td>19199</td>\n",
       "      <td>20000</td>\n",
       "      <td>Out Of Stock</td>\n",
       "      <td>ضمــــــان سنــــــة</td>\n",
       "      <td>Processor \\r\\r\\n12th Generation Intel(R) Core(...</td>\n",
       "      <td>https://www.sigma-computer.com/item?id=7652&amp;na...</td>\n",
       "    </tr>\n",
       "    <tr>\n",
       "      <th>3</th>\n",
       "      <td>HP Victus16-r1062ne Intel Core i5 14450HX-RTX ...</td>\n",
       "      <td>43999</td>\n",
       "      <td>45000</td>\n",
       "      <td>In Stock</td>\n",
       "      <td>ضمــــــــان سنـــــــــة</td>\n",
       "      <td>Processor: Intel Core i5-14450HX\\r\\r\\n\\r\\r\\n\\t...</td>\n",
       "      <td>https://www.sigma-computer.com/item?id=7642&amp;na...</td>\n",
       "    </tr>\n",
       "  </tbody>\n",
       "</table>\n",
       "</div>"
      ],
      "text/plain": [
       "                                                name  newprice  oldprice  \\\n",
       "0  Redragon H270 RGB Gaming Headset with Micropho...      1099      1350   \n",
       "1  Redragon M814 Wireless Gaming Mouse and Tri-Mo...      1399      1650   \n",
       "2  Laptop Dell Vostro 3520 - Intel Core i5 1235U ...     19199     20000   \n",
       "3  HP Victus16-r1062ne Intel Core i5 14450HX-RTX ...     43999     45000   \n",
       "\n",
       "          stock                   warranty  \\\n",
       "0      In Stock                no warranty   \n",
       "1      In Stock                no warranty   \n",
       "2  Out Of Stock       ضمــــــان سنــــــة   \n",
       "3      In Stock  ضمــــــــان سنـــــــــة   \n",
       "\n",
       "                                                data  \\\n",
       "0  Multi-Platform Compatibility: Works with Xbox ...   \n",
       "1  3 Modes: Wired and 2.4GHz Wireless and Bluetoo...   \n",
       "2  Processor \\r\\r\\n12th Generation Intel(R) Core(...   \n",
       "3  Processor: Intel Core i5-14450HX\\r\\r\\n\\r\\r\\n\\t...   \n",
       "\n",
       "                                         productlink  \n",
       "0  https://www.sigma-computer.com/item?id=7664&na...  \n",
       "1  https://www.sigma-computer.com/item?id=7663&na...  \n",
       "2  https://www.sigma-computer.com/item?id=7652&na...  \n",
       "3  https://www.sigma-computer.com/item?id=7642&na...  "
      ]
     },
     "execution_count": 15,
     "metadata": {},
     "output_type": "execute_result"
    }
   ],
   "source": [
    "df=pd.read_csv(\"sigma.csv\")\n",
    "df"
   ]
  },
  {
   "cell_type": "code",
   "execution_count": null,
   "metadata": {},
   "outputs": [],
   "source": []
  }
 ],
 "metadata": {
  "kernelspec": {
   "display_name": "machinelearning",
   "language": "python",
   "name": "python3"
  },
  "language_info": {
   "codemirror_mode": {
    "name": "ipython",
    "version": 3
   },
   "file_extension": ".py",
   "mimetype": "text/x-python",
   "name": "python",
   "nbconvert_exporter": "python",
   "pygments_lexer": "ipython3",
   "version": "3.12.7"
  }
 },
 "nbformat": 4,
 "nbformat_minor": 2
}
